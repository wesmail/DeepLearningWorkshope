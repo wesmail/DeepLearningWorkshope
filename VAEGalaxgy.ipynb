{
 "cells": [
  {
   "cell_type": "code",
   "execution_count": 1,
   "metadata": {},
   "outputs": [],
   "source": [
    "# generic imports\n",
    "import math\n",
    "import h5py\n",
    "import numpy as np\n",
    "import pandas as pd\n",
    "from tqdm import tqdm\n",
    "import matplotlib.pyplot as plt\n",
    "from datetime import datetime\n",
    "from random import randrange\n",
    "\n",
    "# torch imports\n",
    "import torch\n",
    "import torchvision\n",
    "import torch.nn as nn\n",
    "import torch.nn.functional as F\n",
    "from torchvision import transforms"
   ]
  },
  {
   "cell_type": "code",
   "execution_count": 2,
   "metadata": {},
   "outputs": [],
   "source": [
    "# Get galaxies, ref.: https://astronn.readthedocs.io/en/latest/galaxy10sdss.html\n",
    "with h5py.File('Galaxy10.h5', 'r') as F:\n",
    "  labels = np.array(F['ans'])\n",
    "  # reject some we don't care about, keep the rest\n",
    "  (milkywaylikes_idx,) = np.where(labels > 3)\n",
    "  images = np.array(F['images'][milkywaylikes_idx])\n",
    "  # Milky way similar galaxies are class '3' ('-4' normalizes the labels again)\n",
    "  labels = np.array(F['ans'][milkywaylikes_idx]) - 4\n",
    "\n",
    "images = images.astype(np.float32) / 255.\n",
    "\n",
    "# crop the image a bit to get 64x64 shape\n",
    "def crop_center(images, cropx, cropy):\n",
    "    _, y, x, _ = images.shape\n",
    "    startx = x // 2 -(cropx // 2)\n",
    "    starty = y // 2 -(cropy // 2)    \n",
    "    return images[:, starty:starty+cropy, startx:startx+cropx, :]\n",
    "\n",
    "images = crop_center(images=images, cropx=32, cropy=32)"
   ]
  },
  {
   "cell_type": "code",
   "execution_count": 3,
   "metadata": {},
   "outputs": [],
   "source": [
    "class GalaxgyDataset(torch.utils.data.Dataset):\n",
    "    '''Create Galaxgy Training Dataset'''\n",
    "\n",
    "    def __init__(self, data=None):     \n",
    "        self.data = data\n",
    "        self.x, self.y = data[0], data[1]\n",
    "    \n",
    "    def __len__(self):\n",
    "        return len(self.y)\n",
    "    \n",
    "    def getx(self):\n",
    "        return self.x\n",
    "    \n",
    "    def gety(self):\n",
    "        return self.y    \n",
    "    \n",
    "    def __getitem__(self, idx):\n",
    "        return {\"inputs\": torch.FloatTensor(np.transpose(self.x[idx], (2,1,0))),\n",
    "                \"labels\": torch.LongTensor([self.y[idx]])}"
   ]
  },
  {
   "cell_type": "code",
   "execution_count": 4,
   "metadata": {},
   "outputs": [],
   "source": [
    "dataset = GalaxgyDataset((images, labels))"
   ]
  },
  {
   "cell_type": "code",
   "execution_count": 5,
   "metadata": {},
   "outputs": [],
   "source": [
    "batch_size = 512\n",
    "num_workers = 8\n",
    "device_ids = [0]"
   ]
  },
  {
   "cell_type": "code",
   "execution_count": 6,
   "metadata": {},
   "outputs": [],
   "source": [
    "dataloader = torch.utils.data.DataLoader(dataset, batch_size=batch_size, shuffle=True)"
   ]
  },
  {
   "cell_type": "code",
   "execution_count": 9,
   "metadata": {},
   "outputs": [],
   "source": [
    "kernel_size = 4 # (4, 4) kernel\n",
    "init_channels = 8 # initial number of filters\n",
    "image_channels = 3 # Galaxgy images are RGB\n",
    "latent_dim = 16 # latent dimension for sampling\n",
    "\n",
    "# define a Conv VAE\n",
    "class ConvVAE(nn.Module):\n",
    "    def __init__(self):\n",
    "        super(ConvVAE, self).__init__()\n",
    " \n",
    "        # encoder\n",
    "        self.enc1 = nn.Conv2d(\n",
    "            in_channels=image_channels, out_channels=init_channels, kernel_size=kernel_size, \n",
    "            stride=2, padding=1\n",
    "        )\n",
    "        self.enc2 = nn.Conv2d(\n",
    "            in_channels=init_channels, out_channels=init_channels*2, kernel_size=kernel_size, \n",
    "            stride=2, padding=1\n",
    "        )\n",
    "        self.enc3 = nn.Conv2d(\n",
    "            in_channels=init_channels*2, out_channels=init_channels*4, kernel_size=kernel_size, \n",
    "            stride=2, padding=1\n",
    "        )\n",
    "        self.enc4 = nn.Conv2d(\n",
    "            in_channels=init_channels*4, out_channels=64, kernel_size=kernel_size, \n",
    "            stride=2, padding=0\n",
    "        )\n",
    "        # fully connected layers for learning representations\n",
    "        self.fc1 = nn.Linear(64, 128)\n",
    "        self.fc_mu = nn.Linear(128, latent_dim)\n",
    "        self.fc_log_var = nn.Linear(128, latent_dim)\n",
    "        self.fc2 = nn.Linear(latent_dim, 64)\n",
    "        # decoder \n",
    "        self.dec1 = nn.ConvTranspose2d(\n",
    "            in_channels=64, out_channels=init_channels*8, kernel_size=kernel_size, \n",
    "            stride=1, padding=0\n",
    "        )\n",
    "        self.dec2 = nn.ConvTranspose2d(\n",
    "            in_channels=init_channels*8, out_channels=init_channels*4, kernel_size=kernel_size, \n",
    "            stride=2, padding=1\n",
    "        )\n",
    "        self.dec3 = nn.ConvTranspose2d(\n",
    "            in_channels=init_channels*4, out_channels=init_channels*2, kernel_size=kernel_size, \n",
    "            stride=2, padding=1\n",
    "        )\n",
    "        self.dec4 = nn.ConvTranspose2d(\n",
    "            in_channels=init_channels*2, out_channels=image_channels, kernel_size=kernel_size, \n",
    "            stride=2, padding=1\n",
    "        )\n",
    "    def reparameterize(self, mu, log_var):\n",
    "        \"\"\"\n",
    "        :param mu: mean from the encoder's latent space\n",
    "        :param log_var: log variance from the encoder's latent space\n",
    "        \"\"\"\n",
    "        std = torch.exp(0.5*log_var) # standard deviation\n",
    "        eps = torch.randn_like(std) # `randn_like` as we need the same size\n",
    "        sample = mu + (eps * std) # sampling\n",
    "        return sample\n",
    " \n",
    "    def forward(self, x):\n",
    "        # encoding\n",
    "        x = nn.functional.relu(self.enc1(x))\n",
    "        x = nn.functional.relu(self.enc2(x))\n",
    "        x = nn.functional.relu(self.enc3(x))\n",
    "        x = nn.functional.relu(self.enc4(x))\n",
    "        batch, _, _, _ = x.shape\n",
    "        x = nn.functional.adaptive_avg_pool2d(x, 1).reshape(batch, -1)\n",
    "        hidden = self.fc1(x)\n",
    "        # get `mu` and `log_var`\n",
    "        mu = self.fc_mu(hidden)\n",
    "        log_var = self.fc_log_var(hidden)\n",
    "        # get the latent vector through reparameterization\n",
    "        z = self.reparameterize(mu, log_var)\n",
    "        z = self.fc2(z)\n",
    "        z = z.view(-1, 64, 1, 1)\n",
    " \n",
    "        # decoding\n",
    "        x = nn.functional.relu(self.dec1(z))\n",
    "        x = nn.functional.relu(self.dec2(x))\n",
    "        x = nn.functional.relu(self.dec3(x))\n",
    "        reconstruction = torch.sigmoid(self.dec4(x))\n",
    "        return reconstruction, mu, log_var\n",
    "    \n",
    "model = ConvVAE().cuda()"
   ]
  },
  {
   "cell_type": "code",
   "execution_count": 10,
   "metadata": {},
   "outputs": [
    {
     "name": "stdout",
     "output_type": "stream",
     "text": [
      "Epoch [1/50], Step [10/10], reconstruction: 168193.984, kl_loss 6.966\n",
      "Epoch [2/50], Step [10/10], reconstruction: 148070.172, kl_loss 743.276\n",
      "Epoch [3/50], Step [10/10], reconstruction: 127395.430, kl_loss 253.096\n",
      "Epoch [4/50], Step [10/10], reconstruction: 119087.656, kl_loss 532.485\n",
      "Epoch [5/50], Step [10/10], reconstruction: 119184.125, kl_loss 644.217\n",
      "Epoch [6/50], Step [10/10], reconstruction: 116230.336, kl_loss 1058.035\n",
      "Epoch [7/50], Step [10/10], reconstruction: 112537.984, kl_loss 797.214\n",
      "Epoch [8/50], Step [10/10], reconstruction: 114317.250, kl_loss 655.172\n",
      "Epoch [9/50], Step [10/10], reconstruction: 111755.633, kl_loss 700.308\n",
      "Epoch [10/50], Step [10/10], reconstruction: 112627.438, kl_loss 629.095\n",
      "Epoch [11/50], Step [10/10], reconstruction: 112256.945, kl_loss 529.781\n",
      "Epoch [12/50], Step [10/10], reconstruction: 110111.859, kl_loss 551.518\n",
      "Epoch [13/50], Step [10/10], reconstruction: 107279.953, kl_loss 500.486\n",
      "Epoch [14/50], Step [10/10], reconstruction: 108277.266, kl_loss 539.309\n",
      "Epoch [15/50], Step [10/10], reconstruction: 109773.164, kl_loss 581.260\n",
      "Epoch [16/50], Step [10/10], reconstruction: 111635.359, kl_loss 666.928\n",
      "Epoch [17/50], Step [10/10], reconstruction: 112191.859, kl_loss 643.036\n",
      "Epoch [18/50], Step [10/10], reconstruction: 110650.703, kl_loss 603.776\n",
      "Epoch [19/50], Step [10/10], reconstruction: 108457.328, kl_loss 625.413\n",
      "Epoch [20/50], Step [10/10], reconstruction: 112641.344, kl_loss 568.580\n",
      "Epoch [21/50], Step [10/10], reconstruction: 109737.469, kl_loss 607.053\n",
      "Epoch [22/50], Step [10/10], reconstruction: 107118.414, kl_loss 599.942\n",
      "Epoch [23/50], Step [10/10], reconstruction: 106944.453, kl_loss 617.413\n",
      "Epoch [24/50], Step [10/10], reconstruction: 106977.531, kl_loss 568.337\n",
      "Epoch [25/50], Step [10/10], reconstruction: 103060.000, kl_loss 649.231\n",
      "Epoch [26/50], Step [10/10], reconstruction: 104081.844, kl_loss 890.545\n",
      "Epoch [27/50], Step [10/10], reconstruction: 108081.891, kl_loss 745.643\n",
      "Epoch [28/50], Step [10/10], reconstruction: 103578.656, kl_loss 779.871\n",
      "Epoch [29/50], Step [10/10], reconstruction: 107755.180, kl_loss 723.108\n",
      "Epoch [30/50], Step [10/10], reconstruction: 106427.258, kl_loss 694.448\n",
      "Epoch [31/50], Step [10/10], reconstruction: 106486.078, kl_loss 685.097\n",
      "Epoch [32/50], Step [10/10], reconstruction: 110357.312, kl_loss 667.292\n",
      "Epoch [33/50], Step [10/10], reconstruction: 106653.289, kl_loss 661.850\n",
      "Epoch [34/50], Step [10/10], reconstruction: 102351.641, kl_loss 693.964\n",
      "Epoch [35/50], Step [10/10], reconstruction: 104276.156, kl_loss 700.551\n",
      "Epoch [36/50], Step [10/10], reconstruction: 110564.273, kl_loss 648.519\n",
      "Epoch [37/50], Step [10/10], reconstruction: 107620.391, kl_loss 663.612\n",
      "Epoch [38/50], Step [10/10], reconstruction: 106972.297, kl_loss 637.059\n",
      "Epoch [39/50], Step [10/10], reconstruction: 105412.258, kl_loss 644.189\n",
      "Epoch [40/50], Step [10/10], reconstruction: 106029.281, kl_loss 612.257\n",
      "Epoch [41/50], Step [10/10], reconstruction: 104895.188, kl_loss 598.336\n",
      "Epoch [42/50], Step [10/10], reconstruction: 109859.594, kl_loss 607.553\n",
      "Epoch [43/50], Step [10/10], reconstruction: 105861.672, kl_loss 595.682\n",
      "Epoch [44/50], Step [10/10], reconstruction: 102755.219, kl_loss 596.712\n",
      "Epoch [45/50], Step [10/10], reconstruction: 103000.492, kl_loss 580.445\n",
      "Epoch [46/50], Step [10/10], reconstruction: 100604.359, kl_loss 589.892\n",
      "Epoch [47/50], Step [10/10], reconstruction: 106019.922, kl_loss 571.348\n",
      "Epoch [48/50], Step [10/10], reconstruction: 106418.938, kl_loss 579.235\n",
      "Epoch [49/50], Step [10/10], reconstruction: 111448.133, kl_loss 541.330\n",
      "Epoch [50/50], Step [10/10], reconstruction: 105334.578, kl_loss 560.633\n"
     ]
    }
   ],
   "source": [
    "# learning rate\n",
    "lr = 1e-3\n",
    "# number of iterations\n",
    "num_epocs = 50\n",
    "# create an optimizer\n",
    "optimizer = torch.optim.Adam(model.parameters(), lr=lr)\n",
    "criterion = nn.BCELoss(reduction='sum')\n",
    "#criterion = nn.MSELoss()\n",
    "\n",
    "# run the main training loop\n",
    "total_step = len(dataloader)\n",
    "for epoch in range(num_epocs):\n",
    "    correct = 0\n",
    "    total   = 0\n",
    "    for i_batch, data in enumerate(dataloader):\n",
    "        x = data[\"inputs\"].cuda()\n",
    "\n",
    "        optimizer.zero_grad()\n",
    "        reconstruction, mu, logvar = model(x)\n",
    "        bce_loss = criterion(reconstruction, x)\n",
    "        KL_loss = -0.5 * torch.sum(1 + logvar - mu.pow(2) - logvar.exp())\n",
    "        loss = bce_loss + KL_loss\n",
    "        loss.backward()\n",
    "        optimizer.step()\n",
    "        \n",
    "        if (i_batch+1) % 10 == 0:\n",
    "            print ('Epoch [{}/{}], Step [{}/{}], reconstruction: {:.3f}, kl_loss {:.3f}'\\\n",
    "                   .format(epoch+1, num_epocs, i_batch+1, total_step, bce_loss.item(), KL_loss))         "
   ]
  },
  {
   "cell_type": "code",
   "execution_count": 30,
   "metadata": {},
   "outputs": [],
   "source": [
    "image = dataset[0][\"inputs\"]\n",
    "reco_image,_,_ = model(image.view(1, 3, 32, 32).cuda())\n",
    "reco_image = reco_image.view(3, 32, 32).detach().cpu()"
   ]
  },
  {
   "cell_type": "code",
   "execution_count": 31,
   "metadata": {},
   "outputs": [
    {
     "data": {
      "text/plain": [
       "<matplotlib.image.AxesImage at 0x7f85fd4b87f0>"
      ]
     },
     "execution_count": 31,
     "metadata": {},
     "output_type": "execute_result"
    },
    {
     "data": {
      "application/vnd.jupyter.widget-view+json": {
       "model_id": "1388f5ca4edc4b42a11591f145141b99",
       "version_major": 2,
       "version_minor": 0
      },
      "image/png": "[encoded data removed]",
      "text/html": [
       "\n",
       "            <div style=\"display: inline-block;\">\n",
       "                <div class=\"jupyter-widgets widget-label\" style=\"text-align: center;\">\n",
       "                    Figure\n",
       "                </div>\n",
       "                <img src='data:image/png;base64,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' width=960.0/>\n",
       "            </div>\n",
       "        "
      ],
      "text/plain": [
       "Canvas(toolbar=Toolbar(toolitems=[('Home', 'Reset original view', 'home', 'home'), ('Back', 'Back to previous …"
      ]
     },
     "metadata": {},
     "output_type": "display_data"
    }
   ],
   "source": [
    "%matplotlib widget\n",
    "fig = plt.figure(figsize=(12, 8), dpi=80)\n",
    "\n",
    "\n",
    "plt.subplot(1, 2, 1)\n",
    "plt.imshow(image.permute(1,2,0))\n",
    "plt.subplot(1, 2, 2)\n",
    "plt.imshow(reco_image.permute(1,2,0))"
   ]
  },
  {
   "cell_type": "code",
   "execution_count": null,
   "metadata": {},
   "outputs": [],
   "source": []
  }
 ],
 "metadata": {
  "kernelspec": {
   "display_name": "Python 3.9.12 ('dgl')",
   "language": "python",
   "name": "python3"
  },
  "language_info": {
   "codemirror_mode": {
    "name": "ipython",
    "version": 3
   },
   "file_extension": ".py",
   "mimetype": "text/x-python",
   "name": "python",
   "nbconvert_exporter": "python",
   "pygments_lexer": "ipython3",
   "version": "3.9.12"
  },
  "orig_nbformat": 4,
  "vscode": {
   "interpreter": {
    "hash": "868b8f55c683ae8a11dc56271409c286d10c8952776bce4816e80c68e3d0d66b"
   }
  }
 },
 "nbformat": 4,
 "nbformat_minor": 2
}
