{
 "cells": [
  {
   "cell_type": "code",
   "execution_count": 1,
   "metadata": {},
   "outputs": [],
   "source": [
    "# generic imports\n",
    "import math\n",
    "import h5py\n",
    "import numpy as np\n",
    "import pandas as pd\n",
    "from tqdm import tqdm\n",
    "import matplotlib.pyplot as plt\n",
    "from datetime import datetime\n",
    "from random import randrange\n",
    "\n",
    "# torch imports\n",
    "import torch\n",
    "import torchvision\n",
    "import torch.nn as nn\n",
    "import torch.nn.functional as F\n",
    "from torchvision import transforms"
   ]
  },
  {
   "cell_type": "code",
   "execution_count": 2,
   "metadata": {},
   "outputs": [],
   "source": [
    "# Get galaxies, ref.: https://astronn.readthedocs.io/en/latest/galaxy10sdss.html\n",
    "with h5py.File('Galaxy10.h5', 'r') as F:\n",
    "  labels = np.array(F['ans'])\n",
    "  # reject some we don't care about, keep the rest\n",
    "  (milkywaylikes_idx,) = np.where(labels > 3)\n",
    "  images = np.array(F['images'][milkywaylikes_idx])\n",
    "  # Milky way similar galaxies are class '3' ('-4' normalizes the labels again)\n",
    "  labels = np.array(F['ans'][milkywaylikes_idx]) - 4\n",
    "\n",
    "images = images.astype(np.float32) / 255.\n",
    "\n",
    "# crop the image a bit to get 64x64 shape\n",
    "def crop_center(images, cropx, cropy):\n",
    "    _, y, x, _ = images.shape\n",
    "    startx = x // 2 -(cropx // 2)\n",
    "    starty = y // 2 -(cropy // 2)    \n",
    "    return images[:, starty:starty+cropy, startx:startx+cropx, :]\n",
    "\n",
    "images = crop_center(images=images, cropx=64, cropy=64)"
   ]
  },
  {
   "cell_type": "code",
   "execution_count": null,
   "metadata": {},
   "outputs": [],
   "source": [
    "class GalaxgyDataset(torch.utils.data.Dataset):\n",
    "    '''Create Galaxgy Training Dataset'''\n",
    "\n",
    "    def __init__(self, data=None):     \n",
    "        self.data = data\n",
    "        self.x, self.y = data[0], data[1]\n",
    "    \n",
    "    def __len__(self):\n",
    "        return len(self.y)\n",
    "    \n",
    "    def preprocess(self):\n",
    "    \n",
    "    def getx(self):\n",
    "        return self.x\n",
    "    \n",
    "    def gety(self):\n",
    "        return self.y    \n",
    "    \n",
    "    def __getitem__(self, idx):\n",
    "        return {\"inputs\": torch.FloatTensor(np.transpose(self.x[idx], (2,1,0))),\n",
    "                \"labels\": torch.LongTensor([self.y[idx]])}"
   ]
  }
 ],
 "metadata": {
  "kernelspec": {
   "display_name": "Python 3.9.12 ('dgl')",
   "language": "python",
   "name": "python3"
  },
  "language_info": {
   "codemirror_mode": {
    "name": "ipython",
    "version": 3
   },
   "file_extension": ".py",
   "mimetype": "text/x-python",
   "name": "python",
   "nbconvert_exporter": "python",
   "pygments_lexer": "ipython3",
   "version": "3.9.12"
  },
  "orig_nbformat": 4,
  "vscode": {
   "interpreter": {
    "hash": "868b8f55c683ae8a11dc56271409c286d10c8952776bce4816e80c68e3d0d66b"
   }
  }
 },
 "nbformat": 4,
 "nbformat_minor": 2
}
